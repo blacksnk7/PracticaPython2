{
 "cells": [
  {
   "cell_type": "markdown",
   "id": "b00f3f6b",
   "metadata": {},
   "source": [
    "#### Primero abrimos cada archivo y los guardamos en una variable."
   ]
  },
  {
   "cell_type": "code",
   "execution_count": 3,
   "id": "f2279b0d",
   "metadata": {},
   "outputs": [],
   "source": [
    "names = open('nombres_1.txt',  encoding='utf8')\n",
    "eval1 = open('eval1.txt')\n",
    "eval2 = open('eval2.txt')"
   ]
  },
  {
   "cell_type": "markdown",
   "id": "8e4efb5d",
   "metadata": {},
   "source": [
    "#### Luego, hacemos una llamada a la funcion \"add_grades\", que nos devolvera un diccionario con todos los nombres del primer archivo como claves y la suma del segundo y tercer archivo como valores."
   ]
  },
  {
   "cell_type": "code",
   "execution_count": 4,
   "id": "ac026f59",
   "metadata": {},
   "outputs": [],
   "source": [
    "total_grades = add_grades(names, eval1, eval2)"
   ]
  },
  {
   "cell_type": "markdown",
   "id": "ad4b480c",
   "metadata": {},
   "source": [
    "#### La funcion \"add_grades\" recive tres archivos, los convierte a listas, crea un diccionario y luego llena dicho diccionario con los datos del primer archivo como llaves y la suma de los datos del segundo archivo como valores. Finalmente nos devuelve el diccionario generado."
   ]
  },
  {
   "cell_type": "code",
   "execution_count": 1,
   "id": "62db82e6",
   "metadata": {},
   "outputs": [],
   "source": [
    "def add_grades(names, eval1, eval2):\n",
    "    total = {}\n",
    "    list_names = names.read().replace(\",\", \"\").split()\n",
    "    list_eval1 = eval1.read().replace(\",\", \"\").split()\n",
    "    list_eval2 = eval2.read().replace(\",\", \"\").split()\n",
    "    for i in range(len(list_names)):\n",
    "        total[list_names[i]] = int(list_eval1[i]) + int(list_eval2[i])\n",
    "    return total"
   ]
  },
  {
   "cell_type": "markdown",
   "id": "7cbe1923",
   "metadata": {},
   "source": [
    "#### Finalmente llamamos a la funcion \"below_avarege\" para que nos imprima los nombres de todos los alumnos cuya suma se notas sea menor al promedio."
   ]
  },
  {
   "cell_type": "code",
   "execution_count": 5,
   "id": "1c9f3b40",
   "metadata": {},
   "outputs": [
    {
     "name": "stdout",
     "output_type": "stream",
     "text": [
      "El alumno 'CESAR' con nota 78 esta por debajo del promedio de 93.09\n",
      "El alumno 'Diego' con nota 33 esta por debajo del promedio de 93.09\n",
      "El alumno 'Dolores' con nota 53 esta por debajo del promedio de 93.09\n",
      "El alumno 'DYLAN' con nota 74 esta por debajo del promedio de 93.09\n",
      "El alumno 'ELIANA' con nota 13 esta por debajo del promedio de 93.09\n",
      "El alumno 'Emanuel' con nota 48 esta por debajo del promedio de 93.09\n",
      "El alumno 'GONZALO' con nota 76 esta por debajo del promedio de 93.09\n",
      "El alumno 'Gregorio' con nota 90 esta por debajo del promedio de 93.09\n",
      "El alumno 'Ignacio' con nota 21 esta por debajo del promedio de 93.09\n",
      "El alumno 'Jonathan' con nota 62 esta por debajo del promedio de 93.09\n",
      "El alumno 'Jorge' con nota 79 esta por debajo del promedio de 93.09\n",
      "El alumno 'JUAN' con nota 68 esta por debajo del promedio de 93.09\n",
      "El alumno 'Julian' con nota 87 esta por debajo del promedio de 93.09\n",
      "El alumno 'Leonel' con nota 55 esta por debajo del promedio de 93.09\n",
      "El alumno 'Nicolás' con nota 65 esta por debajo del promedio de 93.09\n",
      "El alumno 'NICOLÁS' con nota 22 esta por debajo del promedio de 93.09\n",
      "El alumno 'Priscila' con nota 24 esta por debajo del promedio de 93.09\n",
      "El alumno 'Yanina' con nota 84 esta por debajo del promedio de 93.09\n"
     ]
    }
   ],
   "source": [
    "below_avarege(total_grades)"
   ]
  },
  {
   "cell_type": "markdown",
   "id": "cdade821",
   "metadata": {},
   "source": [
    "#### La funcion \"below_avarege\" primero llama a otra funcion \"avarege\" la cual nos devuelve un numero con el promedio sacado entre todas las notas guardadas en el diccionario \"grades\". Luego, la funcion recorre todo el diccionario preguntanto para cada valor si dicho valor es menor que el promedio. De ser asi, la funcion imprime el nombre del alumno, su nota total y el promedio (principalmente para poder visualizar que efectivamente se encuentra por debajo del mismo)."
   ]
  },
  {
   "cell_type": "code",
   "execution_count": 2,
   "id": "a23c5121",
   "metadata": {},
   "outputs": [],
   "source": [
    "def below_avarege(grades):\n",
    "    avr = avarege(grades)\n",
    "    for key in grades:\n",
    "        if (grades[key] < avr):\n",
    "            print(f\"El alumno {key} con nota {grades[key]} esta por debajo del promedio de {avr:.2f}\")\n",
    "\n",
    "def avarege(grades):\n",
    "    total = 0\n",
    "    counter = 0\n",
    "    for grade in grades:\n",
    "        total += grades[grade]\n",
    "        counter += 1\n",
    "    return (total/counter)"
   ]
  },
  {
   "cell_type": "code",
   "execution_count": null,
   "id": "a13dbc32",
   "metadata": {},
   "outputs": [],
   "source": []
  }
 ],
 "metadata": {
  "kernelspec": {
   "display_name": "Python 3 (ipykernel)",
   "language": "python",
   "name": "python3"
  },
  "language_info": {
   "codemirror_mode": {
    "name": "ipython",
    "version": 3
   },
   "file_extension": ".py",
   "mimetype": "text/x-python",
   "name": "python",
   "nbconvert_exporter": "python",
   "pygments_lexer": "ipython3",
   "version": "3.10.3"
  }
 },
 "nbformat": 4,
 "nbformat_minor": 5
}
